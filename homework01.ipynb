{
 "cells": [
  {
   "cell_type": "markdown",
   "id": "17e2129b",
   "metadata": {},
   "source": [
    "## Task01\n",
    "> На складе лежат разные фрукты в разном количестве.\n",
    "Нужно написать функцию, которая на вход принимает любое количество названий фруктов и их количество, а возвращает общее количество фруктов на складе"
   ]
  },
  {
   "cell_type": "code",
   "execution_count": 2,
   "id": "e831d69b",
   "metadata": {},
   "outputs": [
    {
     "name": "stdout",
     "output_type": "stream",
     "text": [
      "975\n"
     ]
    }
   ],
   "source": [
    "def total_fructs(fructs: dict) -> int:\n",
    "    return sum(fructs.values())\n",
    "\n",
    "\n",
    "fructs = {\n",
    "    'ananas': 100,\n",
    "    'apple': 120,\n",
    "    'mandarin': 540,\n",
    "    'limon': 215\n",
    "}\n",
    "\n",
    "print(total_fructs(fructs))"
   ]
  },
  {
   "cell_type": "markdown",
   "id": "f65fa07b",
   "metadata": {},
   "source": [
    "## Task02\n",
    "> Дан список с затратами на рекламу. Но в данных есть ошибки, некоторые затраты имеют отрицательную величину. Удалите такие значения из списка и посчитайте суммарные затраты. Используйте **list comprehensions**"
   ]
  },
  {
   "cell_type": "code",
   "execution_count": 3,
   "id": "b4152c4b",
   "metadata": {},
   "outputs": [
    {
     "data": {
      "text/plain": [
       "1425"
      ]
     },
     "execution_count": 3,
     "metadata": {},
     "output_type": "execute_result"
    }
   ],
   "source": [
    "bad_expenses = [100, 125, -90, 345, 655, -1, 0, 200]\n",
    "good_expenses = [i for i in bad_expenses if i > 0]\n",
    "\n",
    "sum(good_expenses)"
   ]
  },
  {
   "cell_type": "markdown",
   "id": "b4f55374",
   "metadata": {},
   "source": [
    "## Task03\n",
    "> Даны два списка: Дата покупки и Суммы покупок по датам\n",
    "### 3.01\n",
    "> Найдите, какая выручка у компании в ноябре. Используйте **list comprehensions**"
   ]
  },
  {
   "cell_type": "code",
   "execution_count": 37,
   "id": "26529831",
   "metadata": {},
   "outputs": [
    {
     "data": {
      "text/plain": [
       "25098"
      ]
     },
     "execution_count": 37,
     "metadata": {},
     "output_type": "execute_result"
    }
   ],
   "source": [
    "dates = ['2021-09-14', '2021-12-15', '2021-09-08', '2021-12-05', '2021-10-09', \n",
    "         '2021-09-30', '2021-12-22', '2021-11-29', '2021-12-24', '2021-11-26', \n",
    "         '2021-10-27', '2021-12-18', '2021-11-09', '2021-11-23', '2021-09-27', \n",
    "         '2021-10-02', '2021-12-27', '2021-09-20', '2021-12-13', '2021-11-01', \n",
    "         '2021-11-09', '2021-12-06', '2021-12-08', '2021-10-09', '2021-10-31', \n",
    "         '2021-09-30', '2021-11-09', '2021-12-13', '2021-10-26', '2021-12-09']\n",
    "sales = [1270, 8413, 9028, 3703, 5739, 4095, 295, 4944, 5723, 3701, 4471, 651, \n",
    "          7037, 4274, 6275, 4988, 6930, 2971, 6592, 2004, 2822, 519, 3406, 2732, 5015, 2008, 316, 6333, 5700, 2887]\n",
    "\n",
    "total_sales = dict()\n",
    "for i in range(len(dates)):\n",
    "    if dates[i] in total_sales.keys():\n",
    "        total_sales[dates[i]] += sales[i]\n",
    "    else:\n",
    "        total_sales[dates[i]] = sales[i]\n",
    "nov_revenue = sum(list(val for dates, val in total_sales.items() if dates[5:7] == '11'))\n",
    "\n",
    "nov_revenue"
   ]
  },
  {
   "cell_type": "markdown",
   "id": "76655247",
   "metadata": {},
   "source": [
    "### 3.02\n",
    "> Найдите выручку компании в зависимости от месяца\n",
    "Для этого напишите функцию, которая на вход принимает список с датами и список с выручкой, а на выходе словарь, где ключи - это месяцы, а значения - это выручка. Используйте **аннотирование типов**."
   ]
  },
  {
   "cell_type": "code",
   "execution_count": 38,
   "id": "a144681d",
   "metadata": {},
   "outputs": [
    {
     "data": {
      "text/plain": [
       "28645"
      ]
     },
     "execution_count": 38,
     "metadata": {},
     "output_type": "execute_result"
    }
   ],
   "source": [
    "def sales_dict(dates: list, sales: list) -> dict:\n",
    "    total_sales = dict()\n",
    "    for i in range(len(dates)):\n",
    "        if dates[i] in total_sales.keys():\n",
    "            total_sales[dates[i]] += sales[i]\n",
    "        else:\n",
    "            total_sales[dates[i]] = sales[i]\n",
    "    return total_sales\n",
    "\n",
    "\n",
    "def month_revenue(total_sales: dict, month: int) -> int:\n",
    "    str_mon = str(month)\n",
    "    if len(str_mon) < 2:\n",
    "        str_mon = '0' + str_mon\n",
    "    revenue = sum(list(val for dates, val in total_sales.items() if dates[5:7] == str_mon))\n",
    "    return revenue\n",
    "\n",
    "month_revenue(sales_dict(dates, sales), 10)"
   ]
  }
 ],
 "metadata": {
  "kernelspec": {
   "display_name": "Python 3 (ipykernel)",
   "language": "python",
   "name": "python3"
  },
  "language_info": {
   "codemirror_mode": {
    "name": "ipython",
    "version": 3
   },
   "file_extension": ".py",
   "mimetype": "text/x-python",
   "name": "python",
   "nbconvert_exporter": "python",
   "pygments_lexer": "ipython3",
   "version": "3.9.13"
  }
 },
 "nbformat": 4,
 "nbformat_minor": 5
}
